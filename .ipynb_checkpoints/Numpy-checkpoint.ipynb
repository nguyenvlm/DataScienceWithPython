{
 "cells": [
  {
   "cell_type": "markdown",
   "metadata": {},
   "source": [
    "Install Numpy using console:\n",
    "```\n",
    "> pip install numpy\n",
    "```"
   ]
  },
  {
   "cell_type": "code",
   "execution_count": 1,
   "metadata": {},
   "outputs": [],
   "source": [
    "import numpy as np"
   ]
  },
  {
   "cell_type": "markdown",
   "metadata": {},
   "source": [
    "# Create Numpy Array"
   ]
  },
  {
   "cell_type": "code",
   "execution_count": 2,
   "metadata": {},
   "outputs": [
    {
     "data": {
      "text/plain": [
       "array([[1., 2., 3.],\n",
       "       [4., 5., 6.],\n",
       "       [7., 8., 9.]])"
      ]
     },
     "execution_count": 2,
     "metadata": {},
     "output_type": "execute_result"
    }
   ],
   "source": [
    "a = np.array([\n",
    "    [1,2,3],\n",
    "    [4,5,6],\n",
    "    [7,8,9]\n",
    "], dtype=float)\n",
    "a"
   ]
  },
  {
   "cell_type": "code",
   "execution_count": 3,
   "metadata": {},
   "outputs": [
    {
     "data": {
      "text/plain": [
       "array([[[0., 0., 0.],\n",
       "        [0., 0., 0.],\n",
       "        [0., 0., 0.]],\n",
       "\n",
       "       [[0., 0., 0.],\n",
       "        [0., 0., 0.],\n",
       "        [0., 0., 0.]],\n",
       "\n",
       "       [[0., 0., 0.],\n",
       "        [0., 0., 0.],\n",
       "        [0., 0., 0.]]])"
      ]
     },
     "execution_count": 3,
     "metadata": {},
     "output_type": "execute_result"
    }
   ],
   "source": [
    "a = np.zeros((3,3,3))\n",
    "a"
   ]
  },
  {
   "cell_type": "code",
   "execution_count": 4,
   "metadata": {},
   "outputs": [
    {
     "data": {
      "text/plain": [
       "array([[1, 1],\n",
       "       [1, 1],\n",
       "       [1, 1],\n",
       "       [1, 1]], dtype=int64)"
      ]
     },
     "execution_count": 4,
     "metadata": {},
     "output_type": "execute_result"
    }
   ],
   "source": [
    "a = np.ones((4,2), dtype=np.int64)\n",
    "a"
   ]
  },
  {
   "cell_type": "code",
   "execution_count": 5,
   "metadata": {},
   "outputs": [
    {
     "data": {
      "text/plain": [
       "array([ 2,  4,  6,  8, 10, 12, 14, 16, 18])"
      ]
     },
     "execution_count": 5,
     "metadata": {},
     "output_type": "execute_result"
    }
   ],
   "source": [
    "a = np.arange(start=2, stop=20, step=2)\n",
    "a"
   ]
  },
  {
   "cell_type": "code",
   "execution_count": 6,
   "metadata": {},
   "outputs": [
    {
     "data": {
      "text/plain": [
       "array([10.  , 13.75, 17.5 , 21.25, 25.  ])"
      ]
     },
     "execution_count": 6,
     "metadata": {},
     "output_type": "execute_result"
    }
   ],
   "source": [
    "a = np.linspace(10,25,5)\n",
    "a"
   ]
  },
  {
   "cell_type": "code",
   "execution_count": 7,
   "metadata": {},
   "outputs": [
    {
     "data": {
      "text/plain": [
       "array([[0., 0., 0., 0., 0.],\n",
       "       [0., 0., 0., 0., 0.],\n",
       "       [0., 0., 0., 0., 0.],\n",
       "       [0., 0., 0., 0., 0.]])"
      ]
     },
     "execution_count": 7,
     "metadata": {},
     "output_type": "execute_result"
    }
   ],
   "source": [
    "a = np.full((4,5), 0.)\n",
    "a"
   ]
  },
  {
   "cell_type": "code",
   "execution_count": 8,
   "metadata": {},
   "outputs": [
    {
     "data": {
      "text/plain": [
       "array([[1., 0., 0.],\n",
       "       [0., 1., 0.],\n",
       "       [0., 0., 1.]])"
      ]
     },
     "execution_count": 8,
     "metadata": {},
     "output_type": "execute_result"
    }
   ],
   "source": [
    "a = np.eye(3)\n",
    "a"
   ]
  },
  {
   "cell_type": "code",
   "execution_count": 9,
   "metadata": {},
   "outputs": [
    {
     "data": {
      "text/plain": [
       "array([[0.99848744, 0.49064471, 0.21988843, 0.43082068, 0.040241  ],\n",
       "       [0.27643285, 0.98365871, 0.63116141, 0.09615474, 0.75139569],\n",
       "       [0.82369801, 0.76051524, 0.62030587, 0.66892349, 0.74266882]])"
      ]
     },
     "execution_count": 9,
     "metadata": {},
     "output_type": "execute_result"
    }
   ],
   "source": [
    "a = np.random.random((3,5))\n",
    "a"
   ]
  },
  {
   "cell_type": "code",
   "execution_count": 10,
   "metadata": {},
   "outputs": [
    {
     "data": {
      "text/plain": [
       "array([[3.90492085e-316, 2.32210854e-322],\n",
       "       [0.00000000e+000, 0.00000000e+000],\n",
       "       [0.00000000e+000, 1.16095484e-028],\n",
       "       [5.28595592e-085, 4.07177619e+223],\n",
       "       [6.48224638e+170, 3.67145870e+228]])"
      ]
     },
     "execution_count": 10,
     "metadata": {},
     "output_type": "execute_result"
    }
   ],
   "source": [
    "a = np.empty((5,2))\n",
    "a"
   ]
  },
  {
   "cell_type": "markdown",
   "metadata": {},
   "source": [
    "# Inspect Numpy Array"
   ]
  },
  {
   "cell_type": "code",
   "execution_count": 11,
   "metadata": {},
   "outputs": [
    {
     "name": "stdout",
     "output_type": "stream",
     "text": [
      "Shape: (5, 4)\n",
      "Size: 20\n",
      "Dtype: int32\n"
     ]
    }
   ],
   "source": [
    "a = np.full((5,4), 15)\n",
    "print(\"Shape:\",a.shape)\n",
    "print(\"Size:\", a.size)\n",
    "print(\"Dtype:\",a.dtype)"
   ]
  },
  {
   "cell_type": "code",
   "execution_count": 12,
   "metadata": {},
   "outputs": [
    {
     "data": {
      "text/plain": [
       "array([[15, 15, 15, 15],\n",
       "       [15, 15, 15, 15],\n",
       "       [15, 15, 15, 15],\n",
       "       [15, 15, 15, 15],\n",
       "       [15, 15, 15, 15]], dtype=int64)"
      ]
     },
     "execution_count": 12,
     "metadata": {},
     "output_type": "execute_result"
    }
   ],
   "source": [
    "a.astype(np.int64)"
   ]
  },
  {
   "cell_type": "markdown",
   "metadata": {},
   "source": [
    "# Arithmetic Operators"
   ]
  },
  {
   "cell_type": "code",
   "execution_count": 13,
   "metadata": {},
   "outputs": [
    {
     "data": {
      "text/plain": [
       "array([[0.74423802, 0.35827507, 0.96600041, 0.26153105, 0.32406149],\n",
       "       [0.33564256, 0.51033783, 0.34184452, 0.12037155, 0.85328939],\n",
       "       [0.76000404, 0.26444753, 0.25600588, 0.73070694, 0.03830482]])"
      ]
     },
     "metadata": {},
     "output_type": "display_data"
    },
    {
     "data": {
      "text/plain": [
       "array([[0.55244064, 0.28533884, 0.87775358, 0.52340834, 0.09963819],\n",
       "       [0.04111487, 0.10461573, 0.56985881, 0.36388176, 0.27301128],\n",
       "       [0.36209967, 0.62446184, 0.09178342, 0.1877887 , 0.45302446]])"
      ]
     },
     "metadata": {},
     "output_type": "display_data"
    }
   ],
   "source": [
    "a = np.random.random((3,5))\n",
    "display(a)\n",
    "b = np.random.random((3,5))\n",
    "display(b)"
   ]
  },
  {
   "cell_type": "code",
   "execution_count": 14,
   "metadata": {},
   "outputs": [
    {
     "data": {
      "text/plain": [
       "array([[1.29667866, 0.64361392, 1.84375398, 0.78493938, 0.42369968],\n",
       "       [0.37675743, 0.61495356, 0.91170333, 0.4842533 , 1.12630067],\n",
       "       [1.1221037 , 0.88890937, 0.34778929, 0.91849563, 0.49132928]])"
      ]
     },
     "metadata": {},
     "output_type": "display_data"
    },
    {
     "data": {
      "text/plain": [
       "array([[0.41114733, 0.10222979, 0.84791031, 0.13688753, 0.0322889 ],\n",
       "       [0.0137999 , 0.05338936, 0.19480311, 0.04380101, 0.23295763],\n",
       "       [0.27519721, 0.16513739, 0.02349709, 0.1372185 , 0.01735302]])"
      ]
     },
     "metadata": {},
     "output_type": "display_data"
    }
   ],
   "source": [
    "# Element-wise operators:\n",
    "display(a+b)\n",
    "display(a*b)"
   ]
  },
  {
   "cell_type": "code",
   "execution_count": 15,
   "metadata": {},
   "outputs": [
    {
     "data": {
      "text/plain": [
       "array([[1.53046386, 0.80220312, 0.77780062],\n",
       "       [0.77912073, 0.53875102, 0.8807636 ],\n",
       "       [1.10629906, 0.48114861, 0.61840321]])"
      ]
     },
     "execution_count": 15,
     "metadata": {},
     "output_type": "execute_result"
    }
   ],
   "source": [
    "# Dot product\n",
    "a.dot(b.T)"
   ]
  },
  {
   "cell_type": "code",
   "execution_count": 16,
   "metadata": {},
   "outputs": [
    {
     "data": {
      "text/plain": [
       "array([[0.67741149, 0.35065936, 0.82261815, 0.25855984, 0.31841927],\n",
       "       [0.32937595, 0.48847206, 0.33522546, 0.12008107, 0.75344728],\n",
       "       [0.68892437, 0.26137604, 0.25321863, 0.66739626, 0.03829545]])"
      ]
     },
     "metadata": {},
     "output_type": "display_data"
    },
    {
     "data": {
      "text/plain": [
       "array([[0.73560429, 0.93650308, 0.56859421, 0.96599524, 0.94794998],\n",
       "       [0.94419886, 0.87257954, 0.94213794, 0.99276409, 0.65750832],\n",
       "       [0.72483323, 0.96523705, 0.96740908, 0.74470278, 0.99926646]])"
      ]
     },
     "metadata": {},
     "output_type": "display_data"
    },
    {
     "data": {
      "text/plain": [
       "array([[-0.29539438, -1.02645422, -0.03459102, -1.34120228, -1.12682199],\n",
       "       [-1.09170848, -0.67268236, -1.07339926, -2.11717211, -0.15865652],\n",
       "       [-0.27443154, -1.33011244, -1.36255488, -0.31374281, -3.26217965]])"
      ]
     },
     "metadata": {},
     "output_type": "display_data"
    },
    {
     "data": {
      "text/plain": [
       "array([[2.10483697, 1.43085916, 2.62741483, 1.29891727, 1.38273233],\n",
       "       [1.39883894, 1.66585387, 1.40754144, 1.12791585, 2.34735554],\n",
       "       [2.13828485, 1.30271106, 1.29176032, 2.07654808, 1.0390479 ]])"
      ]
     },
     "metadata": {},
     "output_type": "display_data"
    }
   ],
   "source": [
    "# Element-wise functions\n",
    "display(np.sin(a))\n",
    "display(np.cos(a))\n",
    "display(np.log(a))\n",
    "display(np.exp(a))"
   ]
  },
  {
   "cell_type": "markdown",
   "metadata": {},
   "source": [
    "# Comparison"
   ]
  },
  {
   "cell_type": "code",
   "execution_count": 17,
   "metadata": {},
   "outputs": [
    {
     "data": {
      "text/plain": [
       "array([[0.74423802, 0.35827507, 0.96600041, 0.26153105, 0.32406149],\n",
       "       [0.33564256, 0.51033783, 0.34184452, 0.12037155, 0.85328939],\n",
       "       [0.76000404, 0.26444753, 0.25600588, 0.73070694, 0.03830482]])"
      ]
     },
     "metadata": {},
     "output_type": "display_data"
    },
    {
     "data": {
      "text/plain": [
       "array([[0.55244064, 0.28533884, 0.87775358, 0.52340834, 0.09963819],\n",
       "       [0.04111487, 0.10461573, 0.56985881, 0.36388176, 0.27301128],\n",
       "       [0.36209967, 0.62446184, 0.09178342, 0.1877887 , 0.45302446]])"
      ]
     },
     "metadata": {},
     "output_type": "display_data"
    },
    {
     "data": {
      "text/plain": [
       "array([[ True,  True,  True, False,  True],\n",
       "       [ True,  True, False, False,  True],\n",
       "       [ True, False,  True,  True, False]])"
      ]
     },
     "execution_count": 17,
     "metadata": {},
     "output_type": "execute_result"
    }
   ],
   "source": [
    "display(a)\n",
    "display(b)\n",
    "a > b"
   ]
  },
  {
   "cell_type": "markdown",
   "metadata": {},
   "source": [
    "# Aggregate Function"
   ]
  },
  {
   "cell_type": "code",
   "execution_count": 18,
   "metadata": {},
   "outputs": [
    {
     "name": "stdout",
     "output_type": "stream",
     "text": [
      "6.865061080517807\n",
      "0.3418445223036368\n",
      "0.4576707387011872\n",
      "0.2742155759269574\n"
     ]
    }
   ],
   "source": [
    "print(np.sum(a))\n",
    "print(np.median(a))\n",
    "print(np.mean(a))\n",
    "print(np.std(a))"
   ]
  },
  {
   "cell_type": "markdown",
   "metadata": {},
   "source": [
    "# Manipulate Numpy Array"
   ]
  },
  {
   "cell_type": "code",
   "execution_count": 19,
   "metadata": {
    "scrolled": true
   },
   "outputs": [
    {
     "data": {
      "text/plain": [
       "array([[0.55244064, 0.28533884, 0.87775358, 0.52340834, 0.09963819],\n",
       "       [0.04111487, 0.10461573, 0.56985881, 0.36388176, 0.27301128],\n",
       "       [0.36209967, 0.62446184, 0.09178342, 0.1877887 , 0.45302446]])"
      ]
     },
     "metadata": {},
     "output_type": "display_data"
    },
    {
     "data": {
      "text/plain": [
       "array([[0.04111487, 0.10461573, 0.09178342, 0.1877887 , 0.09963819],\n",
       "       [0.36209967, 0.28533884, 0.56985881, 0.36388176, 0.27301128],\n",
       "       [0.55244064, 0.62446184, 0.87775358, 0.52340834, 0.45302446]])"
      ]
     },
     "metadata": {},
     "output_type": "display_data"
    },
    {
     "data": {
      "text/plain": [
       "array([[0.09963819, 0.28533884, 0.52340834, 0.55244064, 0.87775358],\n",
       "       [0.04111487, 0.10461573, 0.27301128, 0.36388176, 0.56985881],\n",
       "       [0.09178342, 0.1877887 , 0.36209967, 0.45302446, 0.62446184]])"
      ]
     },
     "metadata": {},
     "output_type": "display_data"
    }
   ],
   "source": [
    "display(b)\n",
    "display(np.sort(b, axis=0))\n",
    "display(np.sort(b, axis=1))"
   ]
  },
  {
   "cell_type": "code",
   "execution_count": 20,
   "metadata": {},
   "outputs": [
    {
     "data": {
      "text/plain": [
       "array([0.04111487, 0.09178342, 0.09963819, 0.10461573, 0.1877887 ,\n",
       "       0.27301128, 0.28533884, 0.36209967, 0.36388176, 0.45302446,\n",
       "       0.52340834, 0.55244064, 0.56985881, 0.62446184, 0.87775358])"
      ]
     },
     "execution_count": 20,
     "metadata": {},
     "output_type": "execute_result"
    }
   ],
   "source": [
    "np.sort(b.flatten())"
   ]
  },
  {
   "cell_type": "code",
   "execution_count": 21,
   "metadata": {},
   "outputs": [
    {
     "data": {
      "text/plain": [
       "array([0.87775358, 0.56985881, 0.62446184])"
      ]
     },
     "execution_count": 21,
     "metadata": {},
     "output_type": "execute_result"
    }
   ],
   "source": [
    "np.max(b, axis=1)"
   ]
  },
  {
   "cell_type": "code",
   "execution_count": 22,
   "metadata": {},
   "outputs": [
    {
     "data": {
      "text/plain": [
       "array([[0.55244064, 0.04111487, 0.36209967],\n",
       "       [0.28533884, 0.10461573, 0.62446184],\n",
       "       [0.87775358, 0.56985881, 0.09178342],\n",
       "       [0.52340834, 0.36388176, 0.1877887 ],\n",
       "       [0.09963819, 0.27301128, 0.45302446]])"
      ]
     },
     "execution_count": 22,
     "metadata": {},
     "output_type": "execute_result"
    }
   ],
   "source": [
    "b.T"
   ]
  },
  {
   "cell_type": "code",
   "execution_count": 23,
   "metadata": {},
   "outputs": [
    {
     "data": {
      "text/plain": [
       "array([[0.74423802, 0.35827507, 0.96600041, 0.26153105, 0.32406149],\n",
       "       [0.33564256, 0.51033783, 0.34184452, 0.12037155, 0.85328939],\n",
       "       [0.76000404, 0.26444753, 0.25600588, 0.73070694, 0.03830482],\n",
       "       [0.55244064, 0.28533884, 0.87775358, 0.52340834, 0.09963819],\n",
       "       [0.04111487, 0.10461573, 0.56985881, 0.36388176, 0.27301128],\n",
       "       [0.36209967, 0.62446184, 0.09178342, 0.1877887 , 0.45302446]])"
      ]
     },
     "metadata": {},
     "output_type": "display_data"
    },
    {
     "data": {
      "text/plain": [
       "array([[0.74423802, 0.35827507, 0.96600041, 0.26153105, 0.32406149,\n",
       "        0.55244064, 0.28533884, 0.87775358, 0.52340834, 0.09963819],\n",
       "       [0.33564256, 0.51033783, 0.34184452, 0.12037155, 0.85328939,\n",
       "        0.04111487, 0.10461573, 0.56985881, 0.36388176, 0.27301128],\n",
       "       [0.76000404, 0.26444753, 0.25600588, 0.73070694, 0.03830482,\n",
       "        0.36209967, 0.62446184, 0.09178342, 0.1877887 , 0.45302446]])"
      ]
     },
     "metadata": {},
     "output_type": "display_data"
    }
   ],
   "source": [
    "display(np.concatenate((a,b), axis=0)) #3*5 axis=0 => 6*5\n",
    "display(np.concatenate((a,b), axis=1)) #3*5 axis=1 => 3*10"
   ]
  },
  {
   "cell_type": "markdown",
   "metadata": {},
   "source": [
    "# Slicing, Indexing"
   ]
  },
  {
   "cell_type": "code",
   "execution_count": 24,
   "metadata": {},
   "outputs": [
    {
     "data": {
      "text/plain": [
       "array([[0.74423802, 0.35827507, 0.96600041, 0.26153105, 0.32406149],\n",
       "       [0.33564256, 0.51033783, 0.34184452, 0.12037155, 0.85328939],\n",
       "       [0.76000404, 0.26444753, 0.25600588, 0.73070694, 0.03830482]])"
      ]
     },
     "metadata": {},
     "output_type": "display_data"
    },
    {
     "data": {
      "text/plain": [
       "0.3418445223036368"
      ]
     },
     "metadata": {},
     "output_type": "display_data"
    },
    {
     "data": {
      "text/plain": [
       "array([0.12037155, 0.73070694])"
      ]
     },
     "metadata": {},
     "output_type": "display_data"
    },
    {
     "data": {
      "text/plain": [
       "array([[0.74423802, 0.35827507, 0.96600041, 0.26153105, 0.32406149],\n",
       "       [0.33564256, 0.51033783, 0.34184452, 0.12037155, 0.85328939],\n",
       "       [0.76000404, 0.26444753, 0.25600588, 0.73070694, 0.03830482]])"
      ]
     },
     "metadata": {},
     "output_type": "display_data"
    }
   ],
   "source": [
    "display(a)\n",
    "display(a[1,2])\n",
    "display(a[1:3,3])\n",
    "display(a[:, :])"
   ]
  },
  {
   "cell_type": "code",
   "execution_count": 25,
   "metadata": {},
   "outputs": [
    {
     "data": {
      "text/plain": [
       "array([[0.74423802, 0.35827507, 0.96600041, 0.26153105, 0.32406149],\n",
       "       [0.33564256, 0.51033783, 0.34184452, 1.        , 0.85328939],\n",
       "       [0.76000404, 0.26444753, 0.25600588, 2.        , 0.03830482]])"
      ]
     },
     "metadata": {},
     "output_type": "display_data"
    }
   ],
   "source": [
    "a[1:3,3] = [1, 2]\n",
    "display(a)"
   ]
  },
  {
   "cell_type": "code",
   "execution_count": 26,
   "metadata": {},
   "outputs": [
    {
     "data": {
      "text/plain": [
       "array([[ True, False,  True, False, False],\n",
       "       [False,  True, False,  True,  True],\n",
       "       [ True, False, False,  True, False]])"
      ]
     },
     "metadata": {},
     "output_type": "display_data"
    },
    {
     "data": {
      "text/plain": [
       "array([0.74423802, 0.96600041, 0.51033783, 1.        , 0.85328939,\n",
       "       0.76000404, 2.        ])"
      ]
     },
     "metadata": {},
     "output_type": "display_data"
    }
   ],
   "source": [
    "# Boolean index\n",
    "display(a>0.5)\n",
    "display(a[a > 0.5])"
   ]
  },
  {
   "cell_type": "code",
   "execution_count": null,
   "metadata": {},
   "outputs": [],
   "source": []
  }
 ],
 "metadata": {
  "kernelspec": {
   "display_name": "Python 3",
   "language": "python",
   "name": "python3"
  },
  "language_info": {
   "codemirror_mode": {
    "name": "ipython",
    "version": 3
   },
   "file_extension": ".py",
   "mimetype": "text/x-python",
   "name": "python",
   "nbconvert_exporter": "python",
   "pygments_lexer": "ipython3",
   "version": "3.7.4"
  }
 },
 "nbformat": 4,
 "nbformat_minor": 4
}
