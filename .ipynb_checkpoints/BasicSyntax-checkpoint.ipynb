{
 "cells": [
  {
   "cell_type": "markdown",
   "metadata": {},
   "source": [
    "# 1. Basic Syntax"
   ]
  },
  {
   "cell_type": "code",
   "execution_count": 1,
   "metadata": {},
   "outputs": [
    {
     "name": "stdout",
     "output_type": "stream",
     "text": [
      "5\n",
      "s\n"
     ]
    }
   ],
   "source": [
    "a = 5\n",
    "A = \"s\"\n",
    "print(a)\n",
    "print(A)"
   ]
  },
  {
   "cell_type": "code",
   "execution_count": 2,
   "metadata": {},
   "outputs": [],
   "source": [
    "# This is a comment\n",
    "# Ctr + /"
   ]
  },
  {
   "cell_type": "markdown",
   "metadata": {},
   "source": [
    "# 2. Data Types"
   ]
  },
  {
   "cell_type": "markdown",
   "metadata": {},
   "source": [
    "## Number"
   ]
  },
  {
   "cell_type": "code",
   "execution_count": 3,
   "metadata": {},
   "outputs": [
    {
     "name": "stdout",
     "output_type": "stream",
     "text": [
      "10\n"
     ]
    }
   ],
   "source": [
    "a = \"A\"\n",
    "print(int(a, base=16))"
   ]
  },
  {
   "cell_type": "markdown",
   "metadata": {},
   "source": [
    "## String"
   ]
  },
  {
   "cell_type": "code",
   "execution_count": 4,
   "metadata": {},
   "outputs": [
    {
     "name": "stdout",
     "output_type": "stream",
     "text": [
      "\n",
      "hello\n",
      "world\n",
      "\n"
     ]
    }
   ],
   "source": [
    "a = \"\"\"\n",
    "hello\n",
    "world\n",
    "\"\"\"\n",
    "print(a)"
   ]
  },
  {
   "cell_type": "code",
   "execution_count": 5,
   "metadata": {},
   "outputs": [
    {
     "name": "stdout",
     "output_type": "stream",
     "text": [
      "a = 10, b = 2.50, c = 15\n"
     ]
    }
   ],
   "source": [
    "a = 10\n",
    "b = 2.5\n",
    "c = 15\n",
    "print(\"a = %d, b = %.2f, c = %d\"%(a, b, c))"
   ]
  },
  {
   "cell_type": "markdown",
   "metadata": {},
   "source": [
    "# List"
   ]
  },
  {
   "cell_type": "code",
   "execution_count": 6,
   "metadata": {},
   "outputs": [
    {
     "name": "stdout",
     "output_type": "stream",
     "text": [
      "4\n"
     ]
    }
   ],
   "source": [
    "l = [2, 3, 'jhka', 2.5]\n",
    "print(len(l))"
   ]
  },
  {
   "cell_type": "code",
   "execution_count": 7,
   "metadata": {},
   "outputs": [
    {
     "name": "stdout",
     "output_type": "stream",
     "text": [
      "2\n",
      "2.5\n",
      "[3, 'jhka']\n",
      "[2, 3]\n"
     ]
    }
   ],
   "source": [
    "print(l[0])\n",
    "print(l[-1])\n",
    "print(l[1:3])\n",
    "print(l[:-2])"
   ]
  },
  {
   "cell_type": "code",
   "execution_count": 8,
   "metadata": {},
   "outputs": [
    {
     "name": "stdout",
     "output_type": "stream",
     "text": [
      "2.5\n",
      "0\n"
     ]
    }
   ],
   "source": [
    "print(l.pop())\n",
    "print(l.index(2))"
   ]
  },
  {
   "cell_type": "markdown",
   "metadata": {},
   "source": [
    "## Tuple"
   ]
  },
  {
   "cell_type": "code",
   "execution_count": 14,
   "metadata": {},
   "outputs": [
    {
     "name": "stdout",
     "output_type": "stream",
     "text": [
      "2\n",
      "3\n",
      "jhka\n"
     ]
    }
   ],
   "source": [
    "a,b,c = l\n",
    "print(a)\n",
    "print(b)\n",
    "print(c)"
   ]
  },
  {
   "cell_type": "markdown",
   "metadata": {},
   "source": [
    "## Set"
   ]
  },
  {
   "cell_type": "code",
   "execution_count": 17,
   "metadata": {},
   "outputs": [
    {
     "name": "stdout",
     "output_type": "stream",
     "text": [
      "5\n",
      "{2, 4, 5, 7, 9}\n"
     ]
    }
   ],
   "source": [
    "num_list = [2, 2, 4, 5, 7, 9, 7]\n",
    "unique_values = set(num_list)\n",
    "print(len(unique_values))\n",
    "print(unique_values)"
   ]
  },
  {
   "cell_type": "code",
   "execution_count": 19,
   "metadata": {},
   "outputs": [
    {
     "data": {
      "text/plain": [
       "True"
      ]
     },
     "execution_count": 19,
     "metadata": {},
     "output_type": "execute_result"
    }
   ],
   "source": [
    "3 not in unique_values"
   ]
  },
  {
   "cell_type": "markdown",
   "metadata": {},
   "source": [
    "## Dict "
   ]
  },
  {
   "cell_type": "code",
   "execution_count": 20,
   "metadata": {},
   "outputs": [],
   "source": [
    "student = {\n",
    "    'Name': 'abcxyz',\n",
    "    'Age': 15,\n",
    "    'Mark': 7.5\n",
    "}"
   ]
  },
  {
   "cell_type": "code",
   "execution_count": 23,
   "metadata": {},
   "outputs": [
    {
     "name": "stdout",
     "output_type": "stream",
     "text": [
      "abcxyz\n",
      "15\n",
      "7.5\n"
     ]
    }
   ],
   "source": [
    "print(student['Name'])\n",
    "print(student['Age'])\n",
    "print(student['Mark'])"
   ]
  },
  {
   "cell_type": "code",
   "execution_count": 24,
   "metadata": {},
   "outputs": [
    {
     "name": "stdout",
     "output_type": "stream",
     "text": [
      "{0: 1, 2: 1, 4: 1, 5: 2, 7: 2}\n"
     ]
    }
   ],
   "source": [
    "arr = [0, 2, 4, 5, 7, 5, 7]\n",
    "cnt = dict()\n",
    "for i in arr:\n",
    "    if i not in cnt:\n",
    "        cnt[i] = 1\n",
    "    else:\n",
    "        cnt[i] += 1\n",
    "print(cnt)"
   ]
  },
  {
   "cell_type": "markdown",
   "metadata": {},
   "source": [
    "# 3. Flow Controls"
   ]
  },
  {
   "cell_type": "markdown",
   "metadata": {},
   "source": [
    "## Condition"
   ]
  },
  {
   "cell_type": "code",
   "execution_count": 1,
   "metadata": {},
   "outputs": [
    {
     "name": "stdout",
     "output_type": "stream",
     "text": [
      "blablal\n"
     ]
    }
   ],
   "source": [
    "x = 5\n",
    "if x%2 == 0:\n",
    "    print(\"%d is even.\"%(x))\n",
    "    print(\"%d is not odd.\"%(x))\n",
    "elif x%2 != 0:\n",
    "    print(\"blablal\")\n",
    "else:\n",
    "    print(\"dsadsa\")"
   ]
  },
  {
   "cell_type": "markdown",
   "metadata": {},
   "source": [
    "## Loop"
   ]
  },
  {
   "cell_type": "code",
   "execution_count": 25,
   "metadata": {},
   "outputs": [
    {
     "name": "stdout",
     "output_type": "stream",
     "text": [
      "55\n"
     ]
    }
   ],
   "source": [
    "# While: Loop by condition\n",
    "i = 1\n",
    "s = 0\n",
    "while i <= 10:\n",
    "    s += i\n",
    "    i += 1\n",
    "\n",
    "print(s)"
   ]
  },
  {
   "cell_type": "code",
   "execution_count": 20,
   "metadata": {},
   "outputs": [
    {
     "name": "stdout",
     "output_type": "stream",
     "text": [
      "- Loop through a list:\n",
      "0 1 2 3 5 \n",
      "- Loop through a string:\n",
      "T,h,i,s, ,i,s, ,a, ,s,t,r,i,n,g,.,\n",
      "- Loop through a set:\n",
      " ,r,T,.,n,s,h,i,a,t,g,\n",
      "- Loop through a dict:\n",
      "Name abcxyz\n",
      "Age 15\n",
      "Mark 7.5\n"
     ]
    }
   ],
   "source": [
    "# For: loop through a sequence (list, tuple, string, bytearray, set, dict)\n",
    "\n",
    "# List:\n",
    "print('- Loop through a list:')\n",
    "l = [0, 1, 2, 3, 5]\n",
    "for i in l:\n",
    "    print(i, end=' ')\n",
    "print()\n",
    "    \n",
    "# String:\n",
    "s = 'This is a string.'\n",
    "print('- Loop through a string:')\n",
    "for c in s:\n",
    "    print(c, end=',')\n",
    "print()\n",
    "\n",
    "# Set:\n",
    "ss = set(s)\n",
    "print('- Loop through a set:')\n",
    "for i in ss:\n",
    "    print(i, end=',')\n",
    "print()\n",
    "\n",
    "# Dict:\n",
    "student = {\n",
    "    'Name': 'abcxyz',\n",
    "    'Age': 15,\n",
    "    'Mark': 7.5\n",
    "}\n",
    "print('- Loop through a dict:')\n",
    "for key in student:\n",
    "    print(key, student[key])"
   ]
  },
  {
   "cell_type": "code",
   "execution_count": 33,
   "metadata": {},
   "outputs": [
    {
     "name": "stdout",
     "output_type": "stream",
     "text": [
      "- Loop through a range:\n",
      "1 4 7 10 \n",
      "-1012036\n"
     ]
    }
   ],
   "source": [
    "# Range:\n",
    "print('- Loop through a range:')\n",
    "for i in range(1, 11, 3):\n",
    "    print(i, end=' ')\n",
    "print()\n",
    "\n",
    "s = 0\n",
    "for i in range(-1, -2012, -2):\n",
    "    s += i\n",
    "print(s)"
   ]
  },
  {
   "cell_type": "markdown",
   "metadata": {},
   "source": [
    "# Function"
   ]
  },
  {
   "cell_type": "code",
   "execution_count": 36,
   "metadata": {},
   "outputs": [
    {
     "name": "stdout",
     "output_type": "stream",
     "text": [
      "6\n"
     ]
    }
   ],
   "source": [
    "def add(a, b):\n",
    "    return a+b\n",
    "\n",
    "print(add(1, 5))"
   ]
  },
  {
   "cell_type": "code",
   "execution_count": 41,
   "metadata": {},
   "outputs": [
    {
     "name": "stdout",
     "output_type": "stream",
     "text": [
      "17\n",
      "[3, 4, 6, 8]\n"
     ]
    }
   ],
   "source": [
    "def add(l):\n",
    "    s = 0\n",
    "    for i in l:\n",
    "        s += i\n",
    "    for i in range(len(l)):\n",
    "        l[i] += 1\n",
    "    return s\n",
    "\n",
    "l = [2,3,5,7]\n",
    "print(add(l))\n",
    "print(l)\n",
    "\n",
    "# Mutable vs Immutable\n",
    "# Sequence: list, dict, set -> Mutable\n",
    "# Other types -> Immutable"
   ]
  },
  {
   "cell_type": "code",
   "execution_count": 44,
   "metadata": {},
   "outputs": [],
   "source": [
    "def myfunct():\n",
    "    pass"
   ]
  },
  {
   "cell_type": "markdown",
   "metadata": {},
   "source": [
    "# Class"
   ]
  },
  {
   "cell_type": "code",
   "execution_count": 60,
   "metadata": {},
   "outputs": [],
   "source": [
    "class Student:\n",
    "    def __init__(self):\n",
    "        self.__name__ = ''\n",
    "        self.__age__ = 0\n",
    "        self.__mark__ = 10\n",
    "    def name(self):\n",
    "        return self.__name__\n",
    "    def setname(self, name):\n",
    "        self.__name__ = name\n",
    "    def age(self):\n",
    "        return self.__age__\n",
    "    def mark(self):\n",
    "        return self.__mark__"
   ]
  },
  {
   "cell_type": "code",
   "execution_count": 61,
   "metadata": {},
   "outputs": [],
   "source": [
    "std1 = Student()"
   ]
  },
  {
   "cell_type": "code",
   "execution_count": 63,
   "metadata": {},
   "outputs": [],
   "source": [
    "std1.setname('Bé đùi gà')"
   ]
  },
  {
   "cell_type": "code",
   "execution_count": 64,
   "metadata": {},
   "outputs": [
    {
     "data": {
      "text/plain": [
       "'Bé đùi gà'"
      ]
     },
     "execution_count": 64,
     "metadata": {},
     "output_type": "execute_result"
    }
   ],
   "source": [
    "std1.name()"
   ]
  },
  {
   "cell_type": "code",
   "execution_count": null,
   "metadata": {},
   "outputs": [],
   "source": []
  }
 ],
 "metadata": {
  "kernelspec": {
   "display_name": "Python 3",
   "language": "python",
   "name": "python3"
  },
  "language_info": {
   "codemirror_mode": {
    "name": "ipython",
    "version": 3
   },
   "file_extension": ".py",
   "mimetype": "text/x-python",
   "name": "python",
   "nbconvert_exporter": "python",
   "pygments_lexer": "ipython3",
   "version": "3.7.4"
  }
 },
 "nbformat": 4,
 "nbformat_minor": 4
}
